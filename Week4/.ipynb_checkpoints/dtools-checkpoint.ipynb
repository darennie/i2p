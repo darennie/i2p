{
 "cells": [
  {
   "cell_type": "code",
   "execution_count": 11,
   "metadata": {},
   "outputs": [],
   "source": [
    "from urllib.request import urlopen\n",
    "import csv\n",
    "import os\n",
    "\n",
    "def get_url(src, dest):\n",
    "    \n",
    "    # Check if dest does *not* exist -- that\n",
    "    # would mean we had to download it!\n",
    "    if not os.path.isfile(dest):\n",
    "        print(f\"{dest} not found, downloading!\")\n",
    "        \n",
    "        # Get the data using the urlopen function\n",
    "        response = urlopen(src) \n",
    "        filedata = response.read().decode('utf-8')\n",
    "        \n",
    "        # Extract the part of the dest(ination) that is *not*\n",
    "        # the actual filename--have a look at how \n",
    "        # os.path.split works using `help(os.path.split)`\n",
    "        path = list(os.path.split(dest)[:-1])\n",
    "        \n",
    "        # Create any missing directories in dest(ination) path\n",
    "        # -- os.path.join is the reverse of split (as you saw above)\n",
    "        # but it doesn't work with lists... so I had to google how \n",
    "        # to use the 'splat' operator! os.makedirs creates missing \n",
    "        # directories in a path automatically.\n",
    "        if len(path) >= 1 and path[0] != '':\n",
    "            os.makedirs(os.path.join(*path), exist_ok=True)\n",
    "        \n",
    "        # This would be how to write data to a file, \n",
    "        # but what should we write?\n",
    "        with open(dest, 'w') as f:\n",
    "            f.write(filedata)\n",
    "            \n",
    "    else:\n",
    "        print(f\"Found {dest} locally!\")\n",
    "    \n",
    "    with open(dest, 'r') as f:\n",
    "        return f.read().splitlines()"
   ]
  },
  {
   "cell_type": "code",
   "execution_count": 12,
   "metadata": {},
   "outputs": [],
   "source": [
    "# Notice that it doesn't make sense to use `dest` as the \n",
    "# parameter name here because we always read *from* a data\n",
    "# source. Your names can be whatever you want, but they \n",
    "# should be logical wherever possible!\n",
    "def to_lol(lst):\n",
    "    \n",
    "    # Rest of code to read file and convert it goes here\n",
    "    csvdata = []\n",
    "    \n",
    "    # This is the same code that you used last week, but \n",
    "    # you'll have to rename some vars to get things to\n",
    "    # work for you here.\n",
    "    csvfile  = csv.reader(lst) # Pass it over to the reader function\n",
    "\n",
    "    for row in csvfile:              \n",
    "        csvdata.append( row )\n",
    "    \n",
    "    # Return list of lists\n",
    "    return csvdata"
   ]
  },
  {
   "cell_type": "code",
   "execution_count": 13,
   "metadata": {},
   "outputs": [],
   "source": [
    "def to_dol(lol):\n",
    "    \"\"\"\n",
    "    Converts a list-of-lists (LoL) to a dict-of-lists (dol)\n",
    "    using the first element in the LoL to create column names.\n",
    "    \n",
    "    :param lol: a list-of-lists where each element of the list represents a row of data\n",
    "    :returns: a dict-of-lists\n",
    "    \"\"\"\n",
    "    # Create empty dict-of-lists\n",
    "    ds = {}\n",
    "\n",
    "    # I had a version of this code that used\n",
    "    # lol.pop(0) since it made the for loop\n",
    "    # easier to read. But I changed my mind...\n",
    "    #\n",
    "    # Can you think why?\n",
    "    col_names = lol[0]\n",
    "    # Write the code to create the keys and empty lists\n",
    "    for b in col_names:\n",
    "        ds[b]=[]\n",
    "\n",
    "    # Then values into a list attached to each key\n",
    "    # and write the code to append values to each list\n",
    "    for row in lol[1:]:\n",
    "        for c in range(0,len(col_names)):\n",
    "            ds[col_names[c]].append(row[c])\n",
    "            \n",
    "    return ds"
   ]
  },
  {
   "cell_type": "code",
   "execution_count": 14,
   "metadata": {},
   "outputs": [],
   "source": [
    "# Convert the raw data to data of the appropriate\n",
    "# type: 'column data' (cdata) -> 'column type' (ctype)\n",
    "def to_type(cdata, ctype):\n",
    "    # If a string\n",
    "    if isinstance(cdata, str):\n",
    "        try:\n",
    "            if ctype==bool:\n",
    "                return cdata==True\n",
    "            else:\n",
    "                return ctype(cdata)\n",
    "        except TypeError:\n",
    "            return cdata\n",
    "    \n",
    "    # Not a string (assume list)\n",
    "    else: \n",
    "        fdata = []\n",
    "        for c in cdata:\n",
    "            try:\n",
    "                if ctype==bool:\n",
    "                    fdata.append( c=='True' )\n",
    "                else:\n",
    "                    fdata.append( ctype(c) )\n",
    "            except:\n",
    "                fdata.append( c )\n",
    "        return fdata"
   ]
  },
  {
   "cell_type": "code",
   "execution_count": 15,
   "metadata": {},
   "outputs": [],
   "source": [
    "!mkdir -p dtools"
   ]
  },
  {
   "cell_type": "code",
   "execution_count": 16,
   "metadata": {},
   "outputs": [
    {
     "name": "stdout",
     "output_type": "stream",
     "text": [
      "[NbConvertApp] Converting notebook dtools.ipynb to python\n",
      "[NbConvertApp] Writing 4661 bytes to dtools/__init__.py\n"
     ]
    }
   ],
   "source": [
    "!jupyter nbconvert --ClearOutputPreprocessor.enabled=True \\\n",
    "    --to python --output=dtools/__init__.py\\\n",
    "    dtools.ipynb"
   ]
  },
  {
   "cell_type": "markdown",
   "metadata": {},
   "source": [
    "Once you have tidied up the content of `dtools/__init__.py` you should be able to run the code below. You can actually edit the `init` file directly in Jupyter as a text file. You can compare this to the file I've created on GitHub."
   ]
  },
  {
   "cell_type": "code",
   "execution_count": 17,
   "metadata": {},
   "outputs": [
    {
     "name": "stdout",
     "output_type": "stream",
     "text": [
      "The autoreload extension is already loaded. To reload it, use:\n",
      "  %reload_ext autoreload\n"
     ]
    }
   ],
   "source": [
    "%load_ext autoreload\n",
    "%autoreload 2"
   ]
  },
  {
   "cell_type": "code",
   "execution_count": 18,
   "metadata": {},
   "outputs": [],
   "source": [
    "import dtools"
   ]
  },
  {
   "cell_type": "code",
   "execution_count": 20,
   "metadata": {},
   "outputs": [
    {
     "name": "stdout",
     "output_type": "stream",
     "text": [
      "Found data/crime-sample.csv locally!\n",
      "11\n",
      "100\n"
     ]
    }
   ],
   "source": [
    "url = 'https://github.com/jreades/i2p/raw/master/data/src/2019-sample-Crime.csv'\n",
    "out = os.path.join('data','crime-sample.csv')\n",
    "\n",
    "dlol = dtools.get_url(url, out)\n",
    "dlol = dtools.to_lol(dlol)\n",
    "ddol = dtools.to_dol(dlol)\n",
    "\n",
    "print(len(ddol.keys()))\n",
    "print(len(ddol['ID']))"
   ]
  },
  {
   "cell_type": "code",
   "execution_count": 21,
   "metadata": {},
   "outputs": [
    {
     "name": "stdout",
     "output_type": "stream",
     "text": [
      "dict_keys(['ID', 'Case Number', 'Date', 'Primary Type', 'Description', 'Location Description', 'Arrest', 'Domestic', 'Year', 'Latitude', 'Longitude'])\n"
     ]
    }
   ],
   "source": [
    "print(ddol.keys())"
   ]
  },
  {
   "cell_type": "code",
   "execution_count": null,
   "metadata": {},
   "outputs": [],
   "source": []
  },
  {
   "cell_type": "code",
   "execution_count": null,
   "metadata": {},
   "outputs": [],
   "source": []
  },
  {
   "cell_type": "code",
   "execution_count": null,
   "metadata": {},
   "outputs": [],
   "source": []
  },
  {
   "cell_type": "code",
   "execution_count": null,
   "metadata": {},
   "outputs": [],
   "source": []
  },
  {
   "cell_type": "code",
   "execution_count": null,
   "metadata": {},
   "outputs": [],
   "source": []
  },
  {
   "cell_type": "code",
   "execution_count": null,
   "metadata": {},
   "outputs": [],
   "source": []
  },
  {
   "cell_type": "code",
   "execution_count": null,
   "metadata": {},
   "outputs": [],
   "source": []
  },
  {
   "cell_type": "code",
   "execution_count": null,
   "metadata": {},
   "outputs": [],
   "source": []
  },
  {
   "cell_type": "code",
   "execution_count": null,
   "metadata": {},
   "outputs": [],
   "source": []
  }
 ],
 "metadata": {
  "kernelspec": {
   "display_name": "Python 3",
   "language": "python",
   "name": "python3"
  },
  "language_info": {
   "codemirror_mode": {
    "name": "ipython",
    "version": 3
   },
   "file_extension": ".py",
   "mimetype": "text/x-python",
   "name": "python",
   "nbconvert_exporter": "python",
   "pygments_lexer": "ipython3",
   "version": "3.7.8"
  }
 },
 "nbformat": 4,
 "nbformat_minor": 4
}
